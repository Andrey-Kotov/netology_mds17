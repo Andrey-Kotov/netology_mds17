{
 "cells": [
  {
   "cell_type": "markdown",
   "metadata": {},
   "source": [
    "# Diplom"
   ]
  },
  {
   "cell_type": "code",
   "execution_count": 1,
   "metadata": {},
   "outputs": [],
   "source": [
    "import numpy as np\n",
    "import pylab as pl\n",
    "import warnings\n",
    "\n",
    "from matplotlib import pyplot as plt\n",
    "from scipy import linalg\n",
    "from sklearn.datasets import load_digits\n",
    "from sklearn.decomposition import TruncatedSVD\n",
    "from sklearn.ensemble import RandomForestClassifier\n",
    "warnings.filterwarnings(\"ignore\")"
   ]
  },
  {
   "cell_type": "code",
   "execution_count": 6,
   "metadata": {},
   "outputs": [],
   "source": [
    "import matplotlib.pyplot as plt\n",
    "import numpy as np\n",
    "\n",
    "from scipy.optimize import minimize\n",
    "%matplotlib inline\n",
    "\n",
    "import scipy.spatial.distance as ds\n",
    "from numpy import linalg as LA"
   ]
  },
  {
   "cell_type": "markdown",
   "metadata": {},
   "source": [
    "## Задание.1a COSINE"
   ]
  },
  {
   "cell_type": "code",
   "execution_count": 2,
   "metadata": {},
   "outputs": [],
   "source": [
    "raitings = np.array([[ 4,  4,  9,  4,  1,  6, 10,  7,  9,  6,  9,  2,  8,  6,  6],\n",
    "                     [ 9,  2,  5, 10,  7,  8, 10,  5,  6,  2,  1,  6,  8,  9,  7],\n",
    "                     [ 1,  6,  8,  8,  4,  9,  3,  8, 10,  5,  2,  6,  8,  1,  6],\n",
    "                     [ 6,  1,  9,  7,  7,  9,  2,  3,  5,  1,  6,  6,  3,  2,  7],\n",
    "                     [ 3,  7,  3,  5,  7,  9,  9,  6,  2,  9,  1,  2,  8, 10,  6],\n",
    "                     [ 8,  3,  7,  3,  8,  6,  1,  8,  8,  6,  1,  9,  4, 10,  1],\n",
    "                     [ 9,  8,  4,  8,  8, 10,  6,  1,  1,  2,  9,  5,  2,  7,  2],\n",
    "                     [ 4,  1,  6,  4,  3, 10,  4,  4,  2,  8,  7,  9,  3,  8,  3],\n",
    "                     [ 2,  7,  7,  6, 10,  6,  8,  9,  8,  6, 10,  1,  7, 10,  4],\n",
    "                     [ 5, 10,  8,  8,  9,  7,  2,  9,  9, 10,  8,  8,  8,  6, 10]])"
   ]
  },
  {
   "cell_type": "code",
   "execution_count": 26,
   "metadata": {},
   "outputs": [
    {
     "name": "stdout",
     "output_type": "stream",
     "text": [
      "0.9106598233573044\n",
      "0.871380522393023\n",
      "0.9187305147356806\n",
      "0.8588686958710953\n",
      "0.8794847716076254\n",
      "0.8551490764118893\n",
      "0.8327421070557632\n",
      "0.8445168512565343\n",
      "0.9106598233573044\n",
      "0.9187305147356806\n"
     ]
    }
   ],
   "source": [
    "M=[]\n",
    "for i in range(10):\n",
    "    a = []\n",
    "    for j in range(10):\n",
    "        if i==j:\n",
    "            a.append(0)\n",
    "        else:\n",
    "            a.append(1-ds.cosine(raitings[i], raitings[j]))\n",
    "    M.append(a)\n",
    "    print(max(a))"
   ]
  },
  {
   "cell_type": "code",
   "execution_count": 36,
   "metadata": {},
   "outputs": [
    {
     "data": {
      "text/plain": [
       "[[0, 8],\n",
       " [1, 4],\n",
       " [2, 9],\n",
       " [3, 9],\n",
       " [4, 8],\n",
       " [5, 9],\n",
       " [6, 3],\n",
       " [7, 5],\n",
       " [8, 0],\n",
       " [9, 2]]"
      ]
     },
     "execution_count": 36,
     "metadata": {},
     "output_type": "execute_result"
    }
   ],
   "source": [
    "total=[]\n",
    "for i in range(10):\n",
    "    for j in range(10):\n",
    "        if M[i][j]==max(M[i]):\n",
    "            total.append([i,j])\n",
    "        else:\n",
    "            0\n",
    "total"
   ]
  },
  {
   "cell_type": "markdown",
   "metadata": {},
   "source": [
    "## Задание.1b Matrix"
   ]
  },
  {
   "cell_type": "code",
   "execution_count": 53,
   "metadata": {},
   "outputs": [
    {
     "data": {
      "text/html": [
       "<div>\n",
       "<style scoped>\n",
       "    .dataframe tbody tr th:only-of-type {\n",
       "        vertical-align: middle;\n",
       "    }\n",
       "\n",
       "    .dataframe tbody tr th {\n",
       "        vertical-align: top;\n",
       "    }\n",
       "\n",
       "    .dataframe thead th {\n",
       "        text-align: right;\n",
       "    }\n",
       "</style>\n",
       "<table border=\"1\" class=\"dataframe\">\n",
       "  <thead>\n",
       "    <tr style=\"text-align: right;\">\n",
       "      <th></th>\n",
       "      <th>0</th>\n",
       "      <th>1</th>\n",
       "      <th>2</th>\n",
       "      <th>3</th>\n",
       "      <th>4</th>\n",
       "      <th>5</th>\n",
       "      <th>6</th>\n",
       "      <th>7</th>\n",
       "      <th>8</th>\n",
       "      <th>9</th>\n",
       "    </tr>\n",
       "  </thead>\n",
       "  <tbody>\n",
       "    <tr>\n",
       "      <th>0</th>\n",
       "      <td>-5.309861</td>\n",
       "      <td>1.929198</td>\n",
       "      <td>-4.933000</td>\n",
       "      <td>2.701880</td>\n",
       "      <td>5.504979</td>\n",
       "      <td>-2.340872</td>\n",
       "      <td>1.714562</td>\n",
       "      <td>-1.688175</td>\n",
       "      <td>-1.408826</td>\n",
       "      <td>1.168101e-15</td>\n",
       "    </tr>\n",
       "    <tr>\n",
       "      <th>1</th>\n",
       "      <td>2.877634</td>\n",
       "      <td>2.716596</td>\n",
       "      <td>1.405928</td>\n",
       "      <td>7.263258</td>\n",
       "      <td>-4.503223</td>\n",
       "      <td>-2.511456</td>\n",
       "      <td>2.645279</td>\n",
       "      <td>0.136335</td>\n",
       "      <td>1.230963</td>\n",
       "      <td>1.168101e-15</td>\n",
       "    </tr>\n",
       "    <tr>\n",
       "      <th>2</th>\n",
       "      <td>-4.940104</td>\n",
       "      <td>-6.688612</td>\n",
       "      <td>-0.945502</td>\n",
       "      <td>3.615567</td>\n",
       "      <td>-0.689693</td>\n",
       "      <td>2.963462</td>\n",
       "      <td>-3.320806</td>\n",
       "      <td>-1.728666</td>\n",
       "      <td>1.236011</td>\n",
       "      <td>1.168101e-15</td>\n",
       "    </tr>\n",
       "    <tr>\n",
       "      <th>3</th>\n",
       "      <td>5.149399</td>\n",
       "      <td>-6.280273</td>\n",
       "      <td>-4.659786</td>\n",
       "      <td>1.090240</td>\n",
       "      <td>-1.014711</td>\n",
       "      <td>-0.483501</td>\n",
       "      <td>-0.800799</td>\n",
       "      <td>3.133933</td>\n",
       "      <td>-1.386871</td>\n",
       "      <td>1.168101e-15</td>\n",
       "    </tr>\n",
       "    <tr>\n",
       "      <th>4</th>\n",
       "      <td>-1.374887</td>\n",
       "      <td>7.543580</td>\n",
       "      <td>4.008344</td>\n",
       "      <td>2.128400</td>\n",
       "      <td>-0.163249</td>\n",
       "      <td>5.138920</td>\n",
       "      <td>-1.337700</td>\n",
       "      <td>1.016808</td>\n",
       "      <td>-1.502895</td>\n",
       "      <td>1.168101e-15</td>\n",
       "    </tr>\n",
       "    <tr>\n",
       "      <th>5</th>\n",
       "      <td>2.653420</td>\n",
       "      <td>-3.770756</td>\n",
       "      <td>8.584307</td>\n",
       "      <td>-1.466283</td>\n",
       "      <td>1.674018</td>\n",
       "      <td>-4.258852</td>\n",
       "      <td>-1.257002</td>\n",
       "      <td>-0.940452</td>\n",
       "      <td>-0.897655</td>\n",
       "      <td>1.168101e-15</td>\n",
       "    </tr>\n",
       "    <tr>\n",
       "      <th>6</th>\n",
       "      <td>8.615739</td>\n",
       "      <td>3.786033</td>\n",
       "      <td>-4.027210</td>\n",
       "      <td>-4.375826</td>\n",
       "      <td>-3.138803</td>\n",
       "      <td>0.447813</td>\n",
       "      <td>-1.059804</td>\n",
       "      <td>-2.642710</td>\n",
       "      <td>-0.137814</td>\n",
       "      <td>1.168101e-15</td>\n",
       "    </tr>\n",
       "    <tr>\n",
       "      <th>7</th>\n",
       "      <td>5.396583</td>\n",
       "      <td>-1.017047</td>\n",
       "      <td>1.014567</td>\n",
       "      <td>-1.895128</td>\n",
       "      <td>6.548835</td>\n",
       "      <td>3.120907</td>\n",
       "      <td>2.244119</td>\n",
       "      <td>0.742532</td>\n",
       "      <td>1.765481</td>\n",
       "      <td>1.168101e-15</td>\n",
       "    </tr>\n",
       "    <tr>\n",
       "      <th>8</th>\n",
       "      <td>-5.784349</td>\n",
       "      <td>5.298571</td>\n",
       "      <td>-1.480836</td>\n",
       "      <td>-3.712955</td>\n",
       "      <td>0.213127</td>\n",
       "      <td>-3.689497</td>\n",
       "      <td>-2.491632</td>\n",
       "      <td>1.982844</td>\n",
       "      <td>1.483182</td>\n",
       "      <td>1.168101e-15</td>\n",
       "    </tr>\n",
       "    <tr>\n",
       "      <th>9</th>\n",
       "      <td>-7.283574</td>\n",
       "      <td>-3.517291</td>\n",
       "      <td>1.033188</td>\n",
       "      <td>-5.349152</td>\n",
       "      <td>-4.431280</td>\n",
       "      <td>1.613076</td>\n",
       "      <td>3.663783</td>\n",
       "      <td>-0.012450</td>\n",
       "      <td>-0.381577</td>\n",
       "      <td>1.168101e-15</td>\n",
       "    </tr>\n",
       "  </tbody>\n",
       "</table>\n",
       "</div>"
      ],
      "text/plain": [
       "          0         1         2         3         4         5         6  \\\n",
       "0 -5.309861  1.929198 -4.933000  2.701880  5.504979 -2.340872  1.714562   \n",
       "1  2.877634  2.716596  1.405928  7.263258 -4.503223 -2.511456  2.645279   \n",
       "2 -4.940104 -6.688612 -0.945502  3.615567 -0.689693  2.963462 -3.320806   \n",
       "3  5.149399 -6.280273 -4.659786  1.090240 -1.014711 -0.483501 -0.800799   \n",
       "4 -1.374887  7.543580  4.008344  2.128400 -0.163249  5.138920 -1.337700   \n",
       "5  2.653420 -3.770756  8.584307 -1.466283  1.674018 -4.258852 -1.257002   \n",
       "6  8.615739  3.786033 -4.027210 -4.375826 -3.138803  0.447813 -1.059804   \n",
       "7  5.396583 -1.017047  1.014567 -1.895128  6.548835  3.120907  2.244119   \n",
       "8 -5.784349  5.298571 -1.480836 -3.712955  0.213127 -3.689497 -2.491632   \n",
       "9 -7.283574 -3.517291  1.033188 -5.349152 -4.431280  1.613076  3.663783   \n",
       "\n",
       "          7         8             9  \n",
       "0 -1.688175 -1.408826  1.168101e-15  \n",
       "1  0.136335  1.230963  1.168101e-15  \n",
       "2 -1.728666  1.236011  1.168101e-15  \n",
       "3  3.133933 -1.386871  1.168101e-15  \n",
       "4  1.016808 -1.502895  1.168101e-15  \n",
       "5 -0.940452 -0.897655  1.168101e-15  \n",
       "6 -2.642710 -0.137814  1.168101e-15  \n",
       "7  0.742532  1.765481  1.168101e-15  \n",
       "8  1.982844  1.483182  1.168101e-15  \n",
       "9 -0.012450 -0.381577  1.168101e-15  "
      ]
     },
     "execution_count": 53,
     "metadata": {},
     "output_type": "execute_result"
    }
   ],
   "source": [
    "from sklearn.decomposition import PCA\n",
    "pca = PCA()\n",
    "x_pca = pca.fit_transform(raitings)\n",
    "x_pca = pd.DataFrame(x_pca)\n",
    "x_pca"
   ]
  },
  {
   "cell_type": "code",
   "execution_count": 72,
   "metadata": {},
   "outputs": [
    {
     "data": {
      "text/plain": [
       "array([[-0.21405828, -0.21840724, -0.28094089, -0.27089744, -0.27753803,\n",
       "        -0.33436988, -0.23625383, -0.26374578, -0.26327297, -0.24061219,\n",
       "        -0.23308063, -0.22640326, -0.25914256, -0.29644507, -0.22831862],\n",
       "       [ 0.4711451 , -0.11583642, -0.15447585,  0.12846167,  0.20826825,\n",
       "         0.26623786,  0.09247124, -0.35181157, -0.43830412, -0.21293113,\n",
       "         0.0309848 ,  0.20696731, -0.28012323,  0.28744485, -0.18793403],\n",
       "       [-0.15528326,  0.1656679 , -0.27689444, -0.10636915, -0.02375853,\n",
       "        -0.10980787,  0.59002199, -0.00103523, -0.21990936,  0.11812879,\n",
       "         0.08077066, -0.51123982,  0.16497278,  0.36898114, -0.07835426],\n",
       "       [ 0.04111448, -0.08645631, -0.17472159, -0.21714723,  0.11094411,\n",
       "        -0.10060368, -0.16112759,  0.24968758,  0.02671233,  0.32369026,\n",
       "        -0.65471537,  0.24256284,  0.08268793,  0.41637486, -0.17098382],\n",
       "       [ 0.13790566, -0.28244791, -0.00656714,  0.31020762, -0.15018655,\n",
       "         0.08592085,  0.37362912, -0.065269  ,  0.12402452, -0.35791293,\n",
       "        -0.54716321, -0.06572075,  0.28595482, -0.16486763,  0.27385053]])"
      ]
     },
     "execution_count": 72,
     "metadata": {},
     "output_type": "execute_result"
    }
   ],
   "source": [
    "U, s, V = np.linalg.svd(raitings)\n",
    "n_component = 5\n",
    "S = np.diag(s)[:, :n_component]\n",
    "V = V[:n_component, :]\n",
    "A = U.dot(S.dot(V))\n",
    "#print(A)\n",
    "#plt.matshow(V)\n",
    "V"
   ]
  },
  {
   "cell_type": "code",
   "execution_count": null,
   "metadata": {},
   "outputs": [],
   "source": []
  },
  {
   "cell_type": "markdown",
   "metadata": {},
   "source": [
    "## Задание 2 Производная"
   ]
  },
  {
   "cell_type": "code",
   "execution_count": 79,
   "metadata": {},
   "outputs": [
    {
     "data": {
      "text/latex": [
       "$\\displaystyle \\tan^{2}{\\left(\\sin{\\left(x \\right)} + \\cos{\\left(2 x + 3 \\right)} \\right)}$"
      ],
      "text/plain": [
       "tan(sin(x) + cos(2*x + 3))**2"
      ]
     },
     "execution_count": 79,
     "metadata": {},
     "output_type": "execute_result"
    }
   ],
   "source": [
    "from sympy import *\n",
    "x = symbols('x')\n",
    "tan(sin(x) + cos(2*x+3))**2"
   ]
  },
  {
   "cell_type": "code",
   "execution_count": 81,
   "metadata": {},
   "outputs": [
    {
     "name": "stdout",
     "output_type": "stream",
     "text": [
      "2*(-2*sin(2*x + 3) + cos(x))*(tan(sin(x) + cos(2*x + 3))**2 + 1)*tan(sin(x) + cos(2*x + 3))\n"
     ]
    }
   ],
   "source": [
    "dev = diff(tan(sin(x) + cos(2*x+3))**2)\n",
    "print(dev)"
   ]
  },
  {
   "cell_type": "code",
   "execution_count": 87,
   "metadata": {},
   "outputs": [
    {
     "data": {
      "text/plain": [
       "55.385917635337854"
      ]
     },
     "execution_count": 87,
     "metadata": {},
     "output_type": "execute_result"
    }
   ],
   "source": [
    "def fun(x):\n",
    "    return(2*(-2*np.sin(2*x + 3) + np.cos(x))*(np.tan(np.sin(x) + np.cos(2*x + 3))**2 + 1)*np.tan(np.sin(x) + np.cos(2*x + 3)))\n",
    "\n",
    "fun(1)"
   ]
  },
  {
   "cell_type": "code",
   "execution_count": null,
   "metadata": {},
   "outputs": [],
   "source": []
  },
  {
   "cell_type": "markdown",
   "metadata": {},
   "source": [
    "## Задание 3 Оптимизация"
   ]
  },
  {
   "cell_type": "code",
   "execution_count": 93,
   "metadata": {},
   "outputs": [],
   "source": [
    "from scipy.optimize import approx_fprime\n",
    "from scipy.optimize import differential_evolution"
   ]
  },
  {
   "cell_type": "code",
   "execution_count": 88,
   "metadata": {},
   "outputs": [],
   "source": [
    "def f(x, a, b):\n",
    "    return np.e**a * np.sin(b*x) + x"
   ]
  },
  {
   "cell_type": "code",
   "execution_count": 89,
   "metadata": {},
   "outputs": [],
   "source": [
    "x = np.array([0.        , 0.26315789, 0.52631579, 0.78947368, 1.05263158,\n",
    "              1.31578947, 1.57894737, 1.84210526, 2.10526316, 2.36842105,\n",
    "              2.63157895, 2.89473684, 3.15789474, 3.42105263, 3.68421053,\n",
    "              3.94736842, 4.21052632, 4.47368421, 4.73684211, 5.        ])"
   ]
  },
  {
   "cell_type": "code",
   "execution_count": 90,
   "metadata": {},
   "outputs": [],
   "source": [
    "fx = np.array([  0.        , -12.01819092, -18.90968634, -17.68786571,\n",
    "                -8.7529108 ,   4.27524517,  16.06801336,  21.81250213,\n",
    "                19.22059845,   9.48411207,  -3.22273056, -13.48576488,\n",
    "               -16.91096359, -11.95866834,  -0.58630088,  12.56873816,\n",
    "                22.12489421,  24.20292139,  18.04522521,   6.33211092])"
   ]
  },
  {
   "cell_type": "code",
   "execution_count": 91,
   "metadata": {},
   "outputs": [
    {
     "data": {
      "image/png": "[encoded data removed]",
      "text/plain": [
       "<Figure size 432x288 with 1 Axes>"
      ]
     },
     "metadata": {
      "needs_background": "light"
     },
     "output_type": "display_data"
    }
   ],
   "source": [
    "plt.plot(x, fx)\n",
    "plt.show()"
   ]
  },
  {
   "cell_type": "code",
   "execution_count": 92,
   "metadata": {},
   "outputs": [],
   "source": [
    "def error(params):\n",
    "    return np.sum(np.abs(fx - f(x, params[0], params[1])))"
   ]
  },
  {
   "cell_type": "code",
   "execution_count": 94,
   "metadata": {},
   "outputs": [
    {
     "data": {
      "text/plain": [
       "     fun: 1.5130289208187264e-06\n",
       " message: 'Optimization terminated successfully.'\n",
       "    nfev: 2073\n",
       "     nit: 66\n",
       " success: True\n",
       "       x: array([ 3. , -2.5])"
      ]
     },
     "execution_count": 94,
     "metadata": {},
     "output_type": "execute_result"
    }
   ],
   "source": [
    "bounds = [(-10, 10), (-10, 10)]\n",
    "\n",
    "result = differential_evolution(error, bounds, seed=42)\n",
    "result"
   ]
  },
  {
   "cell_type": "code",
   "execution_count": null,
   "metadata": {},
   "outputs": [],
   "source": []
  },
  {
   "cell_type": "markdown",
   "metadata": {},
   "source": [
    "## Задание 4 Теория вероятности"
   ]
  },
  {
   "cell_type": "code",
   "execution_count": 37,
   "metadata": {},
   "outputs": [
    {
     "data": {
      "text/plain": [
       "5.05"
      ]
     },
     "execution_count": 37,
     "metadata": {},
     "output_type": "execute_result"
    }
   ],
   "source": [
    "a = np.random.choice(10,20)\n",
    "a.mean()"
   ]
  },
  {
   "cell_type": "code",
   "execution_count": 39,
   "metadata": {},
   "outputs": [
    {
     "data": {
      "image/png": "[encoded data removed]",
      "text/plain": [
       "<Figure size 432x288 with 1 Axes>"
      ]
     },
     "metadata": {
      "needs_background": "light"
     },
     "output_type": "display_data"
    }
   ],
   "source": [
    "average = []\n",
    "for i in range(1000):\n",
    "    average.append(np.random.choice(20,50).mean())\n",
    "    \n",
    "plt.hist(average)\n",
    "plt.show()"
   ]
  },
  {
   "cell_type": "code",
   "execution_count": null,
   "metadata": {},
   "outputs": [],
   "source": []
  },
  {
   "cell_type": "markdown",
   "metadata": {},
   "source": [
    "## Задание 5 Матрица"
   ]
  },
  {
   "cell_type": "code",
   "execution_count": 3,
   "metadata": {},
   "outputs": [
    {
     "name": "stdout",
     "output_type": "stream",
     "text": [
      "[[1 4]\n",
      " [1 1]]\n"
     ]
    }
   ],
   "source": [
    "m = np.array([[1, 4],\n",
    "              [1, 1]])\n",
    "print(m)"
   ]
  },
  {
   "cell_type": "code",
   "execution_count": 8,
   "metadata": {},
   "outputs": [
    {
     "name": "stdout",
     "output_type": "stream",
     "text": [
      "[ 3. -1.]\n",
      "[[ 0.89442719 -0.89442719]\n",
      " [ 0.4472136   0.4472136 ]]\n"
     ]
    }
   ],
   "source": [
    "#собственный вектор, собственное значение матрицы\n",
    "w,v = LA.eig(m)\n",
    "print(w)\n",
    "print(v)"
   ]
  },
  {
   "cell_type": "code",
   "execution_count": null,
   "metadata": {},
   "outputs": [],
   "source": []
  },
  {
   "cell_type": "code",
   "execution_count": null,
   "metadata": {},
   "outputs": [],
   "source": []
  }
 ],
 "metadata": {
  "kernelspec": {
   "display_name": "Python 3",
   "language": "python",
   "name": "python3"
  },
  "language_info": {
   "codemirror_mode": {
    "name": "ipython",
    "version": 3
   },
   "file_extension": ".py",
   "mimetype": "text/x-python",
   "name": "python",
   "nbconvert_exporter": "python",
   "pygments_lexer": "ipython3",
   "version": "3.8.3"
  }
 },
 "nbformat": 4,
 "nbformat_minor": 4
}
